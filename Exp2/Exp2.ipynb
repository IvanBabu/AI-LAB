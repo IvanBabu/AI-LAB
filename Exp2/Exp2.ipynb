{
 "cells": [
  {
   "cell_type": "code",
   "execution_count": 2,
   "id": "58505c01-0629-4055-950a-f4b5006067da",
   "metadata": {},
   "outputs": [
    {
     "name": "stdout",
     "output_type": "stream",
     "text": [
      "The 1st 10 no are\n",
      "1\n",
      "2\n",
      "3\n",
      "4\n",
      "5\n",
      "6\n",
      "7\n",
      "8\n",
      "9\n",
      "10\n"
     ]
    }
   ],
   "source": [
    "i=1\n",
    "print(\"The 1st 10 no are\")\n",
    "while(i<11):\n",
    "    print(i)\n",
    "    i+=1"
   ]
  },
  {
   "cell_type": "code",
   "execution_count": 6,
   "id": "66e5dfd8-5e35-41bd-a28b-9e1df27305d9",
   "metadata": {},
   "outputs": [
    {
     "name": "stdin",
     "output_type": "stream",
     "text": [
      "Enter the number: 5\n"
     ]
    },
    {
     "name": "stdout",
     "output_type": "stream",
     "text": [
      "The multiplication table is :\n",
      "5*1=5\n",
      "5*2=10\n",
      "5*3=15\n",
      "5*4=20\n",
      "5*5=25\n",
      "5*6=30\n",
      "5*7=35\n",
      "5*8=40\n",
      "5*9=45\n",
      "5*10=50\n"
     ]
    }
   ],
   "source": [
    "n=int(input(\"Enter the number:\"))\n",
    "print(\"The multiplication table is :\")\n",
    "for i in range(1,11):\n",
    "    print(f\"{n}*{i}={n*i}\")\n"
   ]
  },
  {
   "cell_type": "code",
   "execution_count": 16,
   "id": "4ac5ab9b-68f0-4816-b235-60c7c003c4a4",
   "metadata": {},
   "outputs": [
    {
     "name": "stdout",
     "output_type": "stream",
     "text": [
      "\n",
      "*\n",
      "**\n",
      "***\n",
      "****\n",
      "*****\n"
     ]
    }
   ],
   "source": [
    "for i in range(0,6):\n",
    "    for j in range(i):\n",
    "        print(\"*\",end=\"\")\n",
    "    print()"
   ]
  },
  {
   "cell_type": "code",
   "execution_count": 18,
   "id": "f300473f-a618-4576-ab6e-f6309061c879",
   "metadata": {},
   "outputs": [
    {
     "name": "stdin",
     "output_type": "stream",
     "text": [
      "Enter the fruits: apple\n",
      "Enter the fruits: pineapple\n",
      "Enter the fruits: ango\n",
      "Enter the fruits: guva\n",
      "Enter the fruits: kiwi\n"
     ]
    },
    {
     "name": "stdout",
     "output_type": "stream",
     "text": [
      "The fruits are:\n",
      "apple\n",
      "pineapple\n",
      "ango\n",
      "guva\n",
      "kiwi\n"
     ]
    }
   ],
   "source": [
    "l=list()\n",
    "n=5\n",
    "for i in range(n):\n",
    "    a=input(\"Enter the fruits:\")\n",
    "    l+=[a]\n",
    "print(\"The fruits are:\")\n",
    "for i in l:\n",
    "    print(i)"
   ]
  },
  {
   "cell_type": "code",
   "execution_count": 19,
   "id": "7a46a405-61e4-420c-8740-646b942d8c55",
   "metadata": {},
   "outputs": [
    {
     "name": "stdin",
     "output_type": "stream",
     "text": [
      "enter the name: ivan\n",
      "enter the marks: 99\n",
      "enter the name: jinu\n",
      "enter the marks: 100\n",
      "enter the name: kartik\n",
      "enter the marks: 99\n"
     ]
    },
    {
     "name": "stdout",
     "output_type": "stream",
     "text": [
      "ivan : 99\n",
      "jinu : 100\n",
      "kartik : 99\n"
     ]
    }
   ],
   "source": [
    "d={}\n",
    "n=3\n",
    "for i in range(n):\n",
    "    a=input(\"enter the name:\")\n",
    "    b=int(input(\"enter the marks:\"))\n",
    "    d[a]=b\n",
    "for i in d:\n",
    "    print(i,':',d[i])"
   ]
  },
  {
   "cell_type": "code",
   "execution_count": 23,
   "id": "7766e5be-e8ec-4861-bbbd-97c678fd71ab",
   "metadata": {},
   "outputs": [
    {
     "name": "stdin",
     "output_type": "stream",
     "text": [
      "ENTER THE NO: 78\n",
      "ENTER THE NO: 56\n",
      "ENTER THE NO: 21\n",
      "ENTER THE NO: 56\n",
      "ENTER THE NO: 23\n"
     ]
    },
    {
     "name": "stdout",
     "output_type": "stream",
     "text": [
      "THE 3RD ELEMENT IS: 21\n"
     ]
    }
   ],
   "source": [
    "t=tuple()\n",
    "n=5\n",
    "for i in range(5):\n",
    "    a=int(input(\"ENTER THE NO:\"))\n",
    "    t+=(a,)\n",
    "print(\"THE 3RD ELEMENT IS:\",t[2])"
   ]
  },
  {
   "cell_type": "code",
   "execution_count": 29,
   "id": "1e3a149a-33b1-4946-b3f2-1599fd3832e4",
   "metadata": {},
   "outputs": [
    {
     "name": "stdin",
     "output_type": "stream",
     "text": [
      "Enter the no of elements 5\n",
      "Enter the values: 5\n",
      "Enter the values: 47\n",
      "Enter the values: 23\n",
      "Enter the values: 5\n",
      "Enter the values: 62\n"
     ]
    },
    {
     "name": "stdout",
     "output_type": "stream",
     "text": [
      "[5, 47, 23, 5, 62]\n",
      "After set\n",
      "{23, 5, 62, 47}\n"
     ]
    }
   ],
   "source": [
    "l=[]\n",
    "n=int(input(\"Enter the no of elements\"))\n",
    "for i in range(n):\n",
    "    a=eval(input(\"Enter the values:\"))\n",
    "    l+=[a]\n",
    "print(l)\n",
    "s=set(l)\n",
    "print(\"After set\")\n",
    "print(s)"
   ]
  },
  {
   "cell_type": "code",
   "execution_count": 31,
   "id": "52157932-b19e-45c1-8614-241a6fea098f",
   "metadata": {},
   "outputs": [
    {
     "name": "stdout",
     "output_type": "stream",
     "text": [
      "First 6 character: PythonP\n",
      "last 6 character: amming\n",
      "Every second char: PtoPormig\n",
      "Reversed string: gnimmargorPnohtyP\n"
     ]
    }
   ],
   "source": [
    "s=\"PythonProgramming\"\n",
    "l=len(s)\n",
    "print(\"First 6 character:\",s[0:7])\n",
    "print(\"last 6 character:\",s[l-6:l])\n",
    "print(\"Every second char:\",s[::2])\n",
    "print(\"Reversed string:\",s[::-1])"
   ]
  },
  {
   "cell_type": "code",
   "execution_count": 32,
   "id": "23774baa-33fe-42ab-8364-14e5c927e2a7",
   "metadata": {},
   "outputs": [
    {
     "name": "stdout",
     "output_type": "stream",
     "text": [
      "[1, 4, 9, 16, 25, 36, 49, 64, 81, 100]\n"
     ]
    }
   ],
   "source": [
    "l=[x**2 for x in range(1,11)]\n",
    "print(l)"
   ]
  },
  {
   "cell_type": "code",
   "execution_count": 33,
   "id": "7ba160c3-e560-4139-8ea1-825b41316892",
   "metadata": {},
   "outputs": [
    {
     "name": "stdout",
     "output_type": "stream",
     "text": [
      "[2, 4, 6, 8, 10, 12, 14, 16, 18, 20, 22, 24, 26, 28, 30, 32, 34, 36, 38, 40, 42, 44, 46, 48, 50]\n"
     ]
    }
   ],
   "source": [
    "l=[x for  x in range(1,51) if x%2==0]\n",
    "print(l)"
   ]
  },
  {
   "cell_type": "code",
   "execution_count": 35,
   "id": "2f969bee-1cf9-4ff8-b36c-67b16c9309a5",
   "metadata": {},
   "outputs": [
    {
     "name": "stdin",
     "output_type": "stream",
     "text": [
      "Enter the no of element 4\n",
      "Enter the string dfg\n",
      "Enter the string lkjhgf\n",
      "Enter the string qwdfghjk\n",
      "Enter the string okjhv\n"
     ]
    },
    {
     "name": "stdout",
     "output_type": "stream",
     "text": [
      "LIST OF STRING WITH STRING GREATER THAN 5 ARE: ['lkjhgf', 'qwdfghjk']\n"
     ]
    }
   ],
   "source": [
    "l=[]\n",
    "l1=[]\n",
    "n=int(input(\"Enter the no of element\"))\n",
    "for i in range(n):\n",
    "    a=input(\"Enter the string\")\n",
    "    l+=[a]\n",
    "for i in l:\n",
    "    if len(i)>5:\n",
    "        l1+=[i]\n",
    "print(\"LIST OF STRING WITH STRING GREATER THAN 5 ARE:\",l1)"
   ]
  },
  {
   "cell_type": "code",
   "execution_count": 45,
   "id": "294ce5a4-6074-43a1-9ee6-ab04671c2998",
   "metadata": {},
   "outputs": [
    {
     "name": "stdin",
     "output_type": "stream",
     "text": [
      "Enter the number 5\n"
     ]
    },
    {
     "name": "stdout",
     "output_type": "stream",
     "text": [
      "The no is prime\n"
     ]
    }
   ],
   "source": [
    "def prime(n):\n",
    "    for i in range(2,(n//2)+1):\n",
    "        if n%i==0:\n",
    "            print(\"The no is not prime\")\n",
    "            break\n",
    "    else:\n",
    "        print(\"The no is prime\")\n",
    "n=int(input(\"Enter the number\"))\n",
    "prime(n)"
   ]
  },
  {
   "cell_type": "code",
   "execution_count": 44,
   "id": "fcefb950-8093-464c-bf28-c033d012cf6e",
   "metadata": {},
   "outputs": [
    {
     "name": "stdout",
     "output_type": "stream",
     "text": [
      "A 1\n",
      "C\n",
      "6\n"
     ]
    }
   ],
   "source": [
    "class student:\n",
    "    def __init__(self,name, grade):\n",
    "        self.name = name\n",
    "        self.grade = grade\n",
    "    def get_name(self):\n",
    "        return self.name\n",
    "    def get_grade(self):\n",
    "        return self.grade\n",
    "    def set_name(self,name):\n",
    "        self.name =name\n",
    "    def set_grade(self, grade):\n",
    "        self.grade =grade\n",
    "s1= student('A',1)\n",
    "s2= student('B',2)\n",
    "s3= student('C',3)\n",
    "print(s1.name, s1.grade)\n",
    "print(s3.get_name())\n",
    "s3.set_grade(6)\n",
    "print(s3.get_grade())"
   ]
  },
  {
   "cell_type": "code",
   "execution_count": 46,
   "id": "449eb5af-606b-4eb4-b011-f7dd52ebd8c7",
   "metadata": {},
   "outputs": [
    {
     "name": "stdin",
     "output_type": "stream",
     "text": [
      "Enter the no: 5\n"
     ]
    },
    {
     "name": "stdout",
     "output_type": "stream",
     "text": [
      "The fact of 5 is: 120\n"
     ]
    }
   ],
   "source": [
    "def fact(n):\n",
    "    f=1\n",
    "    if n==0:\n",
    "        return 1\n",
    "    else:\n",
    "        return n*fact(n-1)\n",
    "n=int(input(\"Enter the no:\"))\n",
    "f=fact(n)\n",
    "print(f\"The fact of {n} is: {f}\")"
   ]
  },
  {
   "cell_type": "code",
   "execution_count": 47,
   "id": "fc1728bb-faf1-4e70-893a-69b9e4f08275",
   "metadata": {},
   "outputs": [
    {
     "name": "stdin",
     "output_type": "stream",
     "text": [
      "Enter the no of elements 3\n",
      "Enter the element 56\n",
      "Enter the element 15\n",
      "Enter the element 632\n"
     ]
    },
    {
     "name": "stdout",
     "output_type": "stream",
     "text": [
      "The sum of list are 703\n"
     ]
    }
   ],
   "source": [
    "def sumoflist(l):\n",
    "    s=0\n",
    "    for i in l:\n",
    "        s+=i\n",
    "    print(\"The sum of list are\", s)\n",
    "l=[]\n",
    "n=int(input(\"Enter the no of elements\"))\n",
    "for i in range(n):\n",
    "    a=int(input(\"Enter the element\"))\n",
    "    l+=[a]\n",
    "sumoflist(l)"
   ]
  },
  {
   "cell_type": "code",
   "execution_count": null,
   "id": "b7fd43dd-d462-47b6-9278-20301c913127",
   "metadata": {},
   "outputs": [],
   "source": []
  }
 ],
 "metadata": {
  "kernelspec": {
   "display_name": "Python 3 (ipykernel)",
   "language": "python",
   "name": "python3"
  },
  "language_info": {
   "codemirror_mode": {
    "name": "ipython",
    "version": 3
   },
   "file_extension": ".py",
   "mimetype": "text/x-python",
   "name": "python",
   "nbconvert_exporter": "python",
   "pygments_lexer": "ipython3",
   "version": "3.10.12"
  }
 },
 "nbformat": 4,
 "nbformat_minor": 5
}
